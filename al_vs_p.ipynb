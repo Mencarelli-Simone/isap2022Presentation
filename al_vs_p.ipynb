{
 "cells": [
  {
   "cell_type": "markdown",
   "source": [
    "# ASSUMPTIONS:\n",
    "- resolution area set to 2 m2 like the spotlight mode of tandem x\n",
    "- ship size 30x7 i.e. medium ship in dlr journal paper\n",
    "- NESZ value static from resolution area for Pd = 1e-6\n",
    "- incidence angle 35 degrees (close to what we get from timing considerations)"
   ],
   "metadata": {
    "collapsed": false
   }
  },
  {
   "cell_type": "markdown",
   "source": [
    "#TODO\n",
    "use function:\n",
    "better_sweep\n",
    "from swath_optimization_functions"
   ],
   "metadata": {
    "collapsed": false
   }
  },
  {
   "cell_type": "code",
   "execution_count": null,
   "outputs": [],
   "source": [
    "from swath_optimization_functions import *\n"
   ],
   "metadata": {
    "collapsed": false
   }
  }
 ],
 "metadata": {
  "kernelspec": {
   "display_name": "Python 3",
   "language": "python",
   "name": "python3"
  },
  "language_info": {
   "codemirror_mode": {
    "name": "ipython",
    "version": 2
   },
   "file_extension": ".py",
   "mimetype": "text/x-python",
   "name": "python",
   "nbconvert_exporter": "python",
   "pygments_lexer": "ipython2",
   "version": "2.7.6"
  }
 },
 "nbformat": 4,
 "nbformat_minor": 0
}
